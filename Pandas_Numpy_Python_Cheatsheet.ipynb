{
  "nbformat": 4,
  "nbformat_minor": 0,
  "metadata": {
    "colab": {
      "name": "Pandas Numpy Python Cheatsheet.ipynb",
      "provenance": [],
      "collapsed_sections": []
    },
    "kernelspec": {
      "name": "python3",
      "display_name": "Python 3"
    },
    "language_info": {
      "name": "python"
    }
  },
  "cells": [
    {
      "cell_type": "code",
      "execution_count": 1,
      "metadata": {
        "colab": {
          "base_uri": "https://localhost:8080/"
        },
        "id": "8bViAqMV1OO_",
        "outputId": "92a624af-9a49-4231-b29e-83ff99d778b3"
      },
      "outputs": [
        {
          "output_type": "execute_result",
          "data": {
            "text/plain": [
              "['Dumbledore', 'Beeblebrox', 'Skywalker', 'Hermione', 'Leia']"
            ]
          },
          "metadata": {},
          "execution_count": 1
        }
      ],
      "source": [
        "names = ['dumbledore', 'beeblebrox', 'skywalker', 'hermione', 'leia']\n",
        "capitalized_names = []\n",
        "for name in names:\n",
        "    capitalized_names.append(name.title())\n",
        "\n",
        "# equals (do.. for)\n",
        "capitalized_names = [name.title() for name in names]\n",
        "capitalized_names"
      ]
    },
    {
      "cell_type": "code",
      "source": [
        "squares = [x**2 for x in range(9) if x % 2 == 0]\n",
        "# to add else statements, move the conditionals to the beginning\n",
        "squares = [x**2 if x % 2 == 0 else x + 3 for x in range(9)]"
      ],
      "metadata": {
        "id": "-dTGym2u1QgA"
      },
      "execution_count": 2,
      "outputs": []
    },
    {
      "cell_type": "code",
      "source": [
        "# example\n",
        "names = [\"Rick S\", \"Morty Smith\", \"Summer Smith\", \"Jerry Smith\", \"Beth Smith\"]\n",
        "first_names = [name.split(' ')[0] for name in names]\n",
        "print(first_names)\n",
        "# ['Rick', 'Morty', 'Summer', 'Jerry', 'Beth']\n",
        "\n",
        "# example\n",
        "multiples_3 = [i*3 for i in range(1,21)]\n",
        "print(multiples_3)\n",
        "# [3, 6, 9, 12, 15, 18, 21, 24, 27, 30, 33, 36, 39, 42, 45, 48, 51, 54, 57, 60]\n",
        "\n",
        "# example\n",
        "scores = {\n",
        "             \"Rick\": 70,\n",
        "             \"Morty Smith\": 35,\n",
        "             \"Summer Smith\": 82,\n",
        "             \"Jerry Smith\": 23,\n",
        "             \"Beth Smith\": 98\n",
        "          }\n",
        "passed = [name for name, score in scores.items() if score>=65]\n",
        "print(passed)\n",
        "# ['Rick', 'Summer Smith', 'Beth Smith']"
      ],
      "metadata": {
        "colab": {
          "base_uri": "https://localhost:8080/"
        },
        "id": "91J6WAqb1Uev",
        "outputId": "0adfd37e-038f-46b3-fbee-0d56b6312800"
      },
      "execution_count": 4,
      "outputs": [
        {
          "output_type": "stream",
          "name": "stdout",
          "text": [
            "['Rick', 'Morty', 'Summer', 'Jerry', 'Beth']\n",
            "[3, 6, 9, 12, 15, 18, 21, 24, 27, 30, 33, 36, 39, 42, 45, 48, 51, 54, 57, 60]\n",
            "['Rick', 'Summer Smith', 'Beth Smith']\n"
          ]
        }
      ]
    },
    {
      "cell_type": "code",
      "source": [
        "# Lambda Functions - lambda (arg1, arg2): do_a_thing_and_return_it\n",
        "multiply = lambda x, y: x * y\n",
        "\n",
        "# Equivalent of:\n",
        "def multiply(x, y):\n",
        "    return x * y\n",
        "\n",
        "# Can call both of the above like:\n",
        "multiply(4, 7)"
      ],
      "metadata": {
        "colab": {
          "base_uri": "https://localhost:8080/"
        },
        "id": "y-HvNsBN1XkF",
        "outputId": "e6742d95-b209-423a-e5ec-2a891f880213"
      },
      "execution_count": 5,
      "outputs": [
        {
          "output_type": "execute_result",
          "data": {
            "text/plain": [
              "28"
            ]
          },
          "metadata": {},
          "execution_count": 5
        }
      ]
    },
    {
      "cell_type": "code",
      "source": [
        "# example of using map() to apply lambda function to a list\n",
        "numbers = [\n",
        "              [34, 63, 88, 71, 29],\n",
        "              [90, 78, 51, 27, 45],\n",
        "              [63, 37, 85, 46, 22],\n",
        "              [51, 22, 34, 11, 18]\n",
        "           ]\n",
        "mean = lambda num_list: sum(num_list)/len(num_list)\n",
        "averages = list(map(mean, numbers))\n",
        "# or\n",
        "averages = list(map(lambda num_list: sum(num_list)/len(num_list), numbers))\n",
        "print(averages)\n",
        "# [57.0, 58.2, 50.6, 27.2]\n",
        "[57.0, 58.2, 50.6, 27.2]"
      ],
      "metadata": {
        "colab": {
          "base_uri": "https://localhost:8080/"
        },
        "id": "e2zO58CZ1e-B",
        "outputId": "54b59f04-3f7c-4514-c8b2-08707a32f286"
      },
      "execution_count": 6,
      "outputs": [
        {
          "output_type": "stream",
          "name": "stdout",
          "text": [
            "[57.0, 58.2, 50.6, 27.2]\n"
          ]
        },
        {
          "output_type": "execute_result",
          "data": {
            "text/plain": [
              "[57.0, 58.2, 50.6, 27.2]"
            ]
          },
          "metadata": {},
          "execution_count": 6
        }
      ]
    },
    {
      "cell_type": "code",
      "source": [
        "# example of using filter() to apply lambda function to a list\n",
        "cities = [\"New York City\", \"Los Angeles\", \"Chicago\", \"Mountain View\", \"Denver\", \"Boston\"]\n",
        "is_short = lambda name: len(name) < 10\n",
        "short_cities = list(filter(is_short, cities))\n",
        "# or\n",
        "short_cities = list(filter(lambda name: len(name) < 10, cities))\n",
        "print(short_cities)"
      ],
      "metadata": {
        "colab": {
          "base_uri": "https://localhost:8080/"
        },
        "id": "Taw7VUT_1jYP",
        "outputId": "5f1369d3-9cba-4c8f-ece9-dbc8d6c0596f"
      },
      "execution_count": 7,
      "outputs": [
        {
          "output_type": "stream",
          "name": "stdout",
          "text": [
            "['Chicago', 'Denver', 'Boston']\n"
          ]
        }
      ]
    },
    {
      "cell_type": "code",
      "source": [
        "# Generators\n",
        "def my_range(x):\n",
        "    i = 0\n",
        "    while i < x:\n",
        "        yield i\n",
        "        i += 1\n",
        "# since this returns an iterator, we can convert it to a list\n",
        "# or iterate through it in a loop to view its contents\n",
        "for x in my_range(5):\n",
        "    print(x)\n",
        "'''\n",
        "0\n",
        "1\n",
        "2\n",
        "3\n",
        "4\n",
        "'''\n",
        "\n",
        "# You can create a generator in the same way you'd normally write a list comprehension, except with\n",
        "# parentheses instead of square brackets.\n",
        "# this list comprehension produces a list of squares\n",
        "sq_list = [x**2 for x in range(10)]\n",
        "# this generator produces an iterator of squares\n",
        "sq_iterator = (x**2 for x in range(10))\n",
        "\n",
        "# example\n",
        "# generator function that works like the built-in function enumerate\n",
        "lessons = [\"Why Python Programming\", \"Data Types and Operators\", \"Control Flow\", \"Functions\", \"Scripting\"]\n",
        "def my_enumerate(iterable, start=0):\n",
        "    i = start\n",
        "    for element in iterable:\n",
        "        yield i, element\n",
        "        i = i + 1\n",
        "for i, lesson in my_enumerate(lessons, 1):\n",
        "    print(\"Lesson {}: {}\".format(i, lesson))\n",
        "'''\n",
        "Lesson 1: Why Python Programming\n",
        "Lesson 2: Data Types and Operators\n",
        "Lesson 3: Control Flow\n",
        "Lesson 4: Functions\n",
        "Lesson 5: Scripting\n",
        "'''\n",
        "\n",
        "# example\n",
        "# If you have an iterable that is too large to fit in memory in full\n",
        "# (e.g., when dealing with large files), being able to take and use\n",
        "# chunks of it at a time can be very valuable.\n",
        "# Implementing a generator function, chunker, that takes in an\n",
        "# iterable and yields a chunk of a specified size at a time.\n",
        "\n",
        "def chunker(iterable, size):\n",
        "    for i in range(0, len(iterable), size):\n",
        "        yield iterable[i:i + size]\n",
        "for chunk in chunker(range(25), 4):\n",
        "    print(list(chunk))\n"
      ],
      "metadata": {
        "colab": {
          "base_uri": "https://localhost:8080/"
        },
        "id": "gBFU3CSL1n4M",
        "outputId": "cbb45da0-11aa-4fdd-dbf8-662e72b6941f"
      },
      "execution_count": 8,
      "outputs": [
        {
          "output_type": "stream",
          "name": "stdout",
          "text": [
            "0\n",
            "1\n",
            "2\n",
            "3\n",
            "4\n",
            "Lesson 1: Why Python Programming\n",
            "Lesson 2: Data Types and Operators\n",
            "Lesson 3: Control Flow\n",
            "Lesson 4: Functions\n",
            "Lesson 5: Scripting\n",
            "[0, 1, 2, 3]\n",
            "[4, 5, 6, 7]\n",
            "[8, 9, 10, 11]\n",
            "[12, 13, 14, 15]\n",
            "[16, 17, 18, 19]\n",
            "[20, 21, 22, 23]\n",
            "[24]\n"
          ]
        }
      ]
    },
    {
      "cell_type": "code",
      "source": [
        "list_of_random_things = [1, 3.4, 'a string', True]"
      ],
      "metadata": {
        "id": "UAvcY_ek19K0"
      },
      "execution_count": 9,
      "outputs": []
    },
    {
      "cell_type": "code",
      "source": [
        "list_of_random_things[0];\n",
        "list_of_random_things[-1]; #last element\n",
        "list_of_random_things[len(list_of_random_things) - 1]; #last element"
      ],
      "metadata": {
        "id": "SM6gEMb02AEr"
      },
      "execution_count": 10,
      "outputs": []
    },
    {
      "cell_type": "code",
      "source": [
        "list_of_random_things[1:3] # returns [3.4, 'a string']\n",
        "list_of_random_things[:2] # returns [1, 3.4]\n",
        "list_of_random_things[1:] # returns all of the elements to the end of the list [3.4, 'a string', True]"
      ],
      "metadata": {
        "colab": {
          "base_uri": "https://localhost:8080/"
        },
        "id": "bA8t-q3W2CTt",
        "outputId": "bcbf187d-1574-4087-c89e-705121fc0823"
      },
      "execution_count": 13,
      "outputs": [
        {
          "output_type": "execute_result",
          "data": {
            "text/plain": [
              "[3.4, 'a string', True]"
            ]
          },
          "metadata": {},
          "execution_count": 13
        }
      ]
    },
    {
      "cell_type": "code",
      "source": [
        "# in, not in\n",
        "'this' in 'this is a string' # True\n",
        "'in' in 'this is a string' # True\n",
        "'isa' in 'this is a string' # False\n",
        "5 not in [1, 2, 3, 4, 6] # True\n",
        "5 in [1, 2, 3, 4, 6] # False"
      ],
      "metadata": {
        "colab": {
          "base_uri": "https://localhost:8080/"
        },
        "id": "kUjQWwRt2FBx",
        "outputId": "b31e0d45-b535-4ad3-95b1-0a967bf463b2"
      },
      "execution_count": 12,
      "outputs": [
        {
          "output_type": "execute_result",
          "data": {
            "text/plain": [
              "False"
            ]
          },
          "metadata": {},
          "execution_count": 12
        }
      ]
    },
    {
      "cell_type": "code",
      "source": [
        "# Mutable and ordered\n",
        "my_lst = [1, 2, 3, 4, 5]\n",
        "my_lst[0] = 0\n",
        "print(my_lst)"
      ],
      "metadata": {
        "colab": {
          "base_uri": "https://localhost:8080/"
        },
        "id": "Uo48nuKY2WvC",
        "outputId": "fd3cbe3c-9165-4e5c-ba79-b4e8c0bf03ea"
      },
      "execution_count": 11,
      "outputs": [
        {
          "output_type": "stream",
          "name": "stdout",
          "text": [
            "[0, 2, 3, 4, 5]\n"
          ]
        }
      ]
    },
    {
      "cell_type": "code",
      "source": [
        "# length of list\n",
        "len(list_of_random_things)"
      ],
      "metadata": {
        "colab": {
          "base_uri": "https://localhost:8080/"
        },
        "id": "xTeYPS2Y2bTX",
        "outputId": "e6a8aaf7-095a-47a8-8f6a-de0179f3df1f"
      },
      "execution_count": 17,
      "outputs": [
        {
          "output_type": "execute_result",
          "data": {
            "text/plain": [
              "4"
            ]
          },
          "metadata": {},
          "execution_count": 17
        }
      ]
    },
    {
      "cell_type": "code",
      "source": [
        "# returns the smallest element of the list\n",
        "min(list_of_random_things)\n",
        "\n",
        "# returns the greatest element of the list. This works because the the max function is defined in terms of the greater than comparison operator. The max function is undefined for lists that contain elements from different, incomparable types.\n",
        "max(list_of_random_things)"
      ],
      "metadata": {
        "colab": {
          "base_uri": "https://localhost:8080/",
          "height": 252
        },
        "id": "T5qCScdf2ewE",
        "outputId": "f8ea1ddf-d19f-4615-a016-b284d49d6f07"
      },
      "execution_count": 18,
      "outputs": [
        {
          "output_type": "error",
          "ename": "TypeError",
          "evalue": "ignored",
          "traceback": [
            "\u001b[0;31m---------------------------------------------------------------------------\u001b[0m",
            "\u001b[0;31mTypeError\u001b[0m                                 Traceback (most recent call last)",
            "\u001b[0;32m<ipython-input-18-d9d2704a9e40>\u001b[0m in \u001b[0;36m<module>\u001b[0;34m()\u001b[0m\n\u001b[1;32m      1\u001b[0m \u001b[0;31m# returns the smallest element of the list\u001b[0m\u001b[0;34m\u001b[0m\u001b[0;34m\u001b[0m\u001b[0;34m\u001b[0m\u001b[0m\n\u001b[0;32m----> 2\u001b[0;31m \u001b[0mmin\u001b[0m\u001b[0;34m(\u001b[0m\u001b[0mlist_of_random_things\u001b[0m\u001b[0;34m)\u001b[0m\u001b[0;34m\u001b[0m\u001b[0;34m\u001b[0m\u001b[0m\n\u001b[0m\u001b[1;32m      3\u001b[0m \u001b[0;34m\u001b[0m\u001b[0m\n\u001b[1;32m      4\u001b[0m \u001b[0;31m# returns the greatest element of the list. This works because the the max function is defined in terms of the greater than comparison operator. The max function is undefined for lists that contain elements from different, incomparable types.\u001b[0m\u001b[0;34m\u001b[0m\u001b[0;34m\u001b[0m\u001b[0;34m\u001b[0m\u001b[0m\n\u001b[1;32m      5\u001b[0m \u001b[0mmax\u001b[0m\u001b[0;34m(\u001b[0m\u001b[0mlist_of_random_things\u001b[0m\u001b[0;34m)\u001b[0m\u001b[0;34m\u001b[0m\u001b[0;34m\u001b[0m\u001b[0m\n",
            "\u001b[0;31mTypeError\u001b[0m: '<' not supported between instances of 'str' and 'int'"
          ]
        }
      ]
    },
    {
      "cell_type": "code",
      "source": [
        "# returns a copy of a list in order from smallest to largest,\n",
        "# leaving the list unchanged.\n",
        "sorted(list_of_random_things)"
      ],
      "metadata": {
        "colab": {
          "base_uri": "https://localhost:8080/",
          "height": 200
        },
        "id": "XrTrAFlk2gyU",
        "outputId": "652c5767-febb-461b-d72f-df3604c762df"
      },
      "execution_count": 16,
      "outputs": [
        {
          "output_type": "error",
          "ename": "TypeError",
          "evalue": "ignored",
          "traceback": [
            "\u001b[0;31m---------------------------------------------------------------------------\u001b[0m",
            "\u001b[0;31mTypeError\u001b[0m                                 Traceback (most recent call last)",
            "\u001b[0;32m<ipython-input-16-beee6b74f9d2>\u001b[0m in \u001b[0;36m<module>\u001b[0;34m()\u001b[0m\n\u001b[1;32m      1\u001b[0m \u001b[0;31m# returns a copy of a list in order from smallest to largest,\u001b[0m\u001b[0;34m\u001b[0m\u001b[0;34m\u001b[0m\u001b[0;34m\u001b[0m\u001b[0m\n\u001b[1;32m      2\u001b[0m \u001b[0;31m# leaving the list unchanged.\u001b[0m\u001b[0;34m\u001b[0m\u001b[0;34m\u001b[0m\u001b[0;34m\u001b[0m\u001b[0m\n\u001b[0;32m----> 3\u001b[0;31m \u001b[0msorted\u001b[0m\u001b[0;34m(\u001b[0m\u001b[0mlist_of_random_things\u001b[0m\u001b[0;34m)\u001b[0m\u001b[0;34m\u001b[0m\u001b[0;34m\u001b[0m\u001b[0m\n\u001b[0m",
            "\u001b[0;31mTypeError\u001b[0m: '<' not supported between instances of 'str' and 'float'"
          ]
        }
      ]
    },
    {
      "cell_type": "code",
      "source": [
        "# join() returns a string consisting of the list elements joined by a separator string.\n",
        "# Takes only a list of strings as an argument\n",
        "name = \"-\".join([\"Grace\", \"Kelly\"])\n",
        "print(name) # Grace-Kelly"
      ],
      "metadata": {
        "colab": {
          "base_uri": "https://localhost:8080/"
        },
        "id": "RkHaO-y42kc-",
        "outputId": "4347fad1-ceb6-4dcf-ea99-5e0872d4d0cb"
      },
      "execution_count": 19,
      "outputs": [
        {
          "output_type": "stream",
          "name": "stdout",
          "text": [
            "Grace-Kelly\n"
          ]
        }
      ]
    },
    {
      "cell_type": "code",
      "source": [
        "cities = ['new york city', 'mountain view', 'chicago', 'los angeles']\n",
        "capitalized_cities = []\n",
        "for city in cities:\n",
        "    capitalized_cities.append(city.title())"
      ],
      "metadata": {
        "id": "AaN9LQ2r2zuU"
      },
      "execution_count": 20,
      "outputs": []
    },
    {
      "cell_type": "code",
      "source": [
        "letters = ['a', 'b', 'c', 'd']\n",
        "letters.append('z')\n",
        "print(letters) # ['a', 'b', 'c', 'd', 'z']\n",
        "# Note: letters[i] = 'z'; wouldn't work, use append()"
      ],
      "metadata": {
        "colab": {
          "base_uri": "https://localhost:8080/"
        },
        "id": "j8PsBR5w22I1",
        "outputId": "fa3a3295-536c-4716-bfc0-1bb6299d89df"
      },
      "execution_count": 21,
      "outputs": [
        {
          "output_type": "stream",
          "name": "stdout",
          "text": [
            "['a', 'b', 'c', 'd', 'z']\n"
          ]
        }
      ]
    },
    {
      "cell_type": "code",
      "source": [
        "cities = ['new york city', 'mountain view', 'chicago', 'los angeles']\n",
        "for index in range(len(cities)):\n",
        "    cities[index] = cities[index].title()"
      ],
      "metadata": {
        "id": "u6T-R8AD24OJ"
      },
      "execution_count": 22,
      "outputs": []
    },
    {
      "cell_type": "code",
      "source": [
        "items = ['first string', 'second string']\n",
        "html_str = \"<ul>\\n\"\n",
        "for item in items:\n",
        "    html_str += \"<li>{}</li>\\n\".format(item)\n",
        "html_str += \"</ul>\"\n",
        "print(html_str)"
      ],
      "metadata": {
        "colab": {
          "base_uri": "https://localhost:8080/"
        },
        "id": "98wQDpkr26IE",
        "outputId": "02a72d97-3f92-414c-ff33-8af70f30fdaa"
      },
      "execution_count": 23,
      "outputs": [
        {
          "output_type": "stream",
          "name": "stdout",
          "text": [
            "<ul>\n",
            "<li>first string</li>\n",
            "<li>second string</li>\n",
            "</ul>\n"
          ]
        }
      ]
    },
    {
      "cell_type": "code",
      "source": [
        "# vowel string\n",
        "vowelString = 'aeiou'\n",
        "print(list(vowelString))\n",
        "\n",
        "# vowel tuple\n",
        "vowelTuple = ('a', 'e', 'i', 'o', 'u')\n",
        "print(list(vowelTuple))\n",
        "\n",
        "# vowel list\n",
        "vowelList = ['a', 'e', 'i', 'o', 'u']\n",
        "print(list(vowelList))\n",
        "\n",
        "# All Print: ['a', 'e', 'i', 'o', 'u']"
      ],
      "metadata": {
        "colab": {
          "base_uri": "https://localhost:8080/"
        },
        "id": "Mf7Zr9qe28IK",
        "outputId": "ddb50444-0f9d-40ea-fd14-bf9a12c59c8d"
      },
      "execution_count": 24,
      "outputs": [
        {
          "output_type": "stream",
          "name": "stdout",
          "text": [
            "['a', 'e', 'i', 'o', 'u']\n",
            "['a', 'e', 'i', 'o', 'u']\n",
            "['a', 'e', 'i', 'o', 'u']\n"
          ]
        }
      ]
    },
    {
      "cell_type": "code",
      "source": [
        "location = (13.4125, 103.866667)"
      ],
      "metadata": {
        "id": "YwDwCMGt2-7L"
      },
      "execution_count": 25,
      "outputs": []
    },
    {
      "cell_type": "code",
      "source": [
        "print(\"Latitude:\", location[0])\n",
        "print(\"Longitude:\", location[1])"
      ],
      "metadata": {
        "colab": {
          "base_uri": "https://localhost:8080/"
        },
        "id": "coEMbwbz3A93",
        "outputId": "cc589992-dee3-4552-ea11-a9ad374f4b55"
      },
      "execution_count": 26,
      "outputs": [
        {
          "output_type": "stream",
          "name": "stdout",
          "text": [
            "Latitude: 13.4125\n",
            "Longitude: 103.866667\n"
          ]
        }
      ]
    },
    {
      "cell_type": "code",
      "source": [
        "# can also be used to assign multiple variables in a compact way\n",
        "dimensions = 52, 40, 100"
      ],
      "metadata": {
        "id": "xloij0lE3DXe"
      },
      "execution_count": 27,
      "outputs": []
    },
    {
      "cell_type": "code",
      "source": [
        "# tuple unpacking\n",
        "length, width, height = dimensions\n",
        "print(\"The dimensions are {} x {} x {}\".format(length, width, height))"
      ],
      "metadata": {
        "colab": {
          "base_uri": "https://localhost:8080/"
        },
        "id": "WoU6MmPJ3Gc5",
        "outputId": "c2cf3fb8-3809-411b-8c69-f3ea99ff57be"
      },
      "execution_count": 28,
      "outputs": [
        {
          "output_type": "stream",
          "name": "stdout",
          "text": [
            "The dimensions are 52 x 40 x 100\n"
          ]
        }
      ]
    },
    {
      "cell_type": "code",
      "source": [
        "numbers = [1, 2, 6, 3, 1, 1, 6]\n",
        "unique_nums = set(numbers)\n",
        "print(unique_nums) # {1, 2, 3, 6}"
      ],
      "metadata": {
        "colab": {
          "base_uri": "https://localhost:8080/"
        },
        "id": "xKT0qHvv3Ir7",
        "outputId": "65d0aa0d-7b7a-4101-bd99-1701bcb80ec7"
      },
      "execution_count": 29,
      "outputs": [
        {
          "output_type": "stream",
          "name": "stdout",
          "text": [
            "{1, 2, 3, 6}\n"
          ]
        }
      ]
    },
    {
      "cell_type": "code",
      "source": [
        "fruit = {\"apple\", \"banana\", \"orange\", \"grapefruit\"}"
      ],
      "metadata": {
        "id": "CGf1P0VX3LG1"
      },
      "execution_count": 30,
      "outputs": []
    },
    {
      "cell_type": "code",
      "source": [
        "print(\"watermelon\" in fruit)"
      ],
      "metadata": {
        "colab": {
          "base_uri": "https://localhost:8080/"
        },
        "id": "um-okVo63NWx",
        "outputId": "2cafad19-1c60-4b5f-ada3-be5b0ec046ea"
      },
      "execution_count": 31,
      "outputs": [
        {
          "output_type": "stream",
          "name": "stdout",
          "text": [
            "False\n"
          ]
        }
      ]
    },
    {
      "cell_type": "code",
      "source": [
        "fruit.add(\"watermelon\")\n",
        "print(fruit)"
      ],
      "metadata": {
        "colab": {
          "base_uri": "https://localhost:8080/"
        },
        "id": "NeWFdB5v3PwA",
        "outputId": "c9a5d189-4ca4-4926-af8c-51239f8e4479"
      },
      "execution_count": 32,
      "outputs": [
        {
          "output_type": "stream",
          "name": "stdout",
          "text": [
            "{'orange', 'grapefruit', 'banana', 'watermelon', 'apple'}\n"
          ]
        }
      ]
    },
    {
      "cell_type": "code",
      "source": [
        "print(fruit.pop())\n",
        "print(fruit)"
      ],
      "metadata": {
        "colab": {
          "base_uri": "https://localhost:8080/"
        },
        "id": "FVXMW9Gf3RmE",
        "outputId": "7bc6ac21-72e5-4c1e-d678-f332925e29be"
      },
      "execution_count": 33,
      "outputs": [
        {
          "output_type": "stream",
          "name": "stdout",
          "text": [
            "orange\n",
            "{'grapefruit', 'banana', 'watermelon', 'apple'}\n"
          ]
        }
      ]
    },
    {
      "cell_type": "code",
      "source": [
        "elements = {\"hydrogen\": 1, \"helium\": 2, \"carbon\": 6}"
      ],
      "metadata": {
        "id": "Ws-YlxNB3T-p"
      },
      "execution_count": 34,
      "outputs": []
    },
    {
      "cell_type": "code",
      "source": [
        "print(elements[\"helium\"])"
      ],
      "metadata": {
        "colab": {
          "base_uri": "https://localhost:8080/"
        },
        "id": "AU4fGQ1M3WqC",
        "outputId": "bb8ba2b7-0270-4ec0-924b-fecd3b407f95"
      },
      "execution_count": 35,
      "outputs": [
        {
          "output_type": "stream",
          "name": "stdout",
          "text": [
            "2\n"
          ]
        }
      ]
    },
    {
      "cell_type": "code",
      "source": [
        "elements[\"lithium\"] = 3 "
      ],
      "metadata": {
        "id": "oKIYKMXD3YiZ"
      },
      "execution_count": 36,
      "outputs": []
    },
    {
      "cell_type": "code",
      "source": [
        "# Just keys\n",
        "for key in cast:\n",
        "    print(key)\n",
        "# Keys and values\n",
        "for key, value in cast.items():\n",
        "    print(\"Actor: {}    Role: {}\".format(key, value))"
      ],
      "metadata": {
        "colab": {
          "base_uri": "https://localhost:8080/",
          "height": 235
        },
        "id": "w4dkyigG3bII",
        "outputId": "39666756-97a9-42e4-8b16-294db57b1b15"
      },
      "execution_count": 37,
      "outputs": [
        {
          "output_type": "error",
          "ename": "NameError",
          "evalue": "ignored",
          "traceback": [
            "\u001b[0;31m---------------------------------------------------------------------------\u001b[0m",
            "\u001b[0;31mNameError\u001b[0m                                 Traceback (most recent call last)",
            "\u001b[0;32m<ipython-input-37-7a526a0e7c66>\u001b[0m in \u001b[0;36m<module>\u001b[0;34m()\u001b[0m\n\u001b[1;32m      1\u001b[0m \u001b[0;31m# Just keys\u001b[0m\u001b[0;34m\u001b[0m\u001b[0;34m\u001b[0m\u001b[0;34m\u001b[0m\u001b[0m\n\u001b[0;32m----> 2\u001b[0;31m \u001b[0;32mfor\u001b[0m \u001b[0mkey\u001b[0m \u001b[0;32min\u001b[0m \u001b[0mcast\u001b[0m\u001b[0;34m:\u001b[0m\u001b[0;34m\u001b[0m\u001b[0;34m\u001b[0m\u001b[0m\n\u001b[0m\u001b[1;32m      3\u001b[0m     \u001b[0mprint\u001b[0m\u001b[0;34m(\u001b[0m\u001b[0mkey\u001b[0m\u001b[0;34m)\u001b[0m\u001b[0;34m\u001b[0m\u001b[0;34m\u001b[0m\u001b[0m\n\u001b[1;32m      4\u001b[0m \u001b[0;31m# Keys and values\u001b[0m\u001b[0;34m\u001b[0m\u001b[0;34m\u001b[0m\u001b[0;34m\u001b[0m\u001b[0m\n\u001b[1;32m      5\u001b[0m \u001b[0;32mfor\u001b[0m \u001b[0mkey\u001b[0m\u001b[0;34m,\u001b[0m \u001b[0mvalue\u001b[0m \u001b[0;32min\u001b[0m \u001b[0mcast\u001b[0m\u001b[0;34m.\u001b[0m\u001b[0mitems\u001b[0m\u001b[0;34m(\u001b[0m\u001b[0;34m)\u001b[0m\u001b[0;34m:\u001b[0m\u001b[0;34m\u001b[0m\u001b[0;34m\u001b[0m\u001b[0m\n",
            "\u001b[0;31mNameError\u001b[0m: name 'cast' is not defined"
          ]
        }
      ]
    },
    {
      "cell_type": "code",
      "source": [
        "# check whether a value is in a dictionary, the same way we check whether a value is in a list or set with the in keyword.\n",
        "print(\"carbon\" in elements) # True"
      ],
      "metadata": {
        "colab": {
          "base_uri": "https://localhost:8080/"
        },
        "id": "aLIGF0Oe3dV7",
        "outputId": "92d5fbfb-c77a-4d5e-c35d-a6f350fb4cf1"
      },
      "execution_count": 38,
      "outputs": [
        {
          "output_type": "stream",
          "name": "stdout",
          "text": [
            "True\n"
          ]
        }
      ]
    },
    {
      "cell_type": "code",
      "source": [
        "# get() looks up values in a dictionary, but unlike square brackets, get returns None (or a default value of your choice) if the key isn't found.\n",
        "# If you expect lookups to sometimes fail, get might be a better tool than normal square bracket lookups.\n",
        "print(elements.get(\"dilithium\")) # None\n",
        "print(elements.get('kryptonite', 'There\\'s no such element!'))\n",
        "# \"There's no such element!\""
      ],
      "metadata": {
        "colab": {
          "base_uri": "https://localhost:8080/"
        },
        "id": "0rvh7_I33gtN",
        "outputId": "f607c67c-7ccb-4377-e188-f4e5e764b060"
      },
      "execution_count": 39,
      "outputs": [
        {
          "output_type": "stream",
          "name": "stdout",
          "text": [
            "None\n",
            "There's no such element!\n"
          ]
        }
      ]
    },
    {
      "cell_type": "code",
      "source": [
        "n = elements.get(\"dilithium\")\n",
        "print(n is None) # True\n",
        "print(n is not None) # False"
      ],
      "metadata": {
        "colab": {
          "base_uri": "https://localhost:8080/"
        },
        "id": "U3mUUE853lEe",
        "outputId": "d2210cb6-cdc4-4d43-9c13-2d103036d29d"
      },
      "execution_count": 40,
      "outputs": [
        {
          "output_type": "stream",
          "name": "stdout",
          "text": [
            "True\n",
            "False\n"
          ]
        }
      ]
    },
    {
      "cell_type": "code",
      "source": [
        "a = [1, 2, 3]\n",
        "b = a\n",
        "c = [1, 2, 3]\n",
        "print(a == b) # True\n",
        "print(a is b) # True\n",
        "print(a == c) # True\n",
        "print(a is c) # False\n",
        "# List a and list b are equal and identical.\n",
        "# List c is equal to a (and b for that matter) since they have the same contents. But a and c (and b for that matter, again) point to two different objects, i.e., they aren't identical objects.\n",
        "# That is the difference between checking for equality vs. identity."
      ],
      "metadata": {
        "colab": {
          "base_uri": "https://localhost:8080/"
        },
        "id": "iTpxV68f3nrk",
        "outputId": "c1af849e-e13d-4938-8d6c-b1be1bbc17c5"
      },
      "execution_count": 41,
      "outputs": [
        {
          "output_type": "stream",
          "name": "stdout",
          "text": [
            "True\n",
            "True\n",
            "True\n",
            "False\n"
          ]
        }
      ]
    },
    {
      "cell_type": "code",
      "source": [
        "elements = {\"hydrogen\": {\"number\": 1,\n",
        "                         \"weight\": 1.00794,\n",
        "                         \"symbol\": \"H\"},\n",
        "              \"helium\": {\"number\": 2,\n",
        "                         \"weight\": 4.002602,\n",
        "                         \"symbol\": \"He\"}}\n",
        "helium = elements[\"helium\"]  # get the helium dictionary\n",
        "hydrogen_weight = elements[\"hydrogen\"][\"weight\"]  # get hydrogen's weight\n",
        "oxygen = {\"number\":8,\"weight\":15.999,\"symbol\":\"O\"}  # create a new oxygen dictionary \n",
        "elements[\"oxygen\"] = oxygen  # assign 'oxygen' as a key to the elements dictionary\n",
        "print('elements = ', elements)"
      ],
      "metadata": {
        "colab": {
          "base_uri": "https://localhost:8080/"
        },
        "id": "oYHQQu8V3qBj",
        "outputId": "91f127c3-fcbe-45fa-a7a8-76b06c6a1dd2"
      },
      "execution_count": 42,
      "outputs": [
        {
          "output_type": "stream",
          "name": "stdout",
          "text": [
            "elements =  {'hydrogen': {'number': 1, 'weight': 1.00794, 'symbol': 'H'}, 'helium': {'number': 2, 'weight': 4.002602, 'symbol': 'He'}, 'oxygen': {'number': 8, 'weight': 15.999, 'symbol': 'O'}}\n"
          ]
        }
      ]
    },
    {
      "cell_type": "code",
      "source": [
        "words =  ['great', 'expectations','the', 'adventures', 'of', 'sherlock','holmes','the','great','gasby','hamlet','adventures','of','huckleberry','fin'];\n",
        "word_counter = {}\n",
        "for word in words:\n",
        "    word_counter[word] = word_counter.get(word,0)+1;\n",
        "print(word_counter);\n",
        "# Prints {'fin': 1, 'huckleberry': 1, 'hamlet': 1, 'holmes': 1, 'adventures': 2, 'sherlock': 1, 'expectations': 1, 'great': 2, 'the': 2, 'of': 2, 'gasby': 1}"
      ],
      "metadata": {
        "colab": {
          "base_uri": "https://localhost:8080/"
        },
        "id": "3mywdL3e3spV",
        "outputId": "d1737a27-4ef2-485c-a01b-7399bb260f0e"
      },
      "execution_count": 43,
      "outputs": [
        {
          "output_type": "stream",
          "name": "stdout",
          "text": [
            "{'great': 2, 'expectations': 1, 'the': 2, 'adventures': 2, 'of': 2, 'sherlock': 1, 'holmes': 1, 'gasby': 1, 'hamlet': 1, 'huckleberry': 1, 'fin': 1}\n"
          ]
        }
      ]
    },
    {
      "cell_type": "code",
      "source": [
        "import numpy as np"
      ],
      "metadata": {
        "id": "HrKuyNqp3u7I"
      },
      "execution_count": 44,
      "outputs": []
    },
    {
      "cell_type": "code",
      "source": [
        "# Create a 1D ndarray that contains only integers\n",
        "x = np.array([1, 2, 3, 4, 5])\n",
        "print('x = ', x) # x = [1 2 3 4 5]\n",
        "print('x has dimensions:', x.shape) # x has dimensions: (5,)\n",
        "print('The elements in x are of type:', x.dtype) # The elements in x are of type: int64\n",
        "\n",
        "# Create a rank 2 ndarray that only contains integers\n",
        "Y = np.array([[1,2,3],[4,5,6],[7,8,9], [10,11,12]])\n",
        "print('Y has dimensions:', Y.shape) # Y has dimensions: (4, 3)\n",
        "print('Y has a total of', Y.size, 'elements') # Y has a total of 12 elements\n",
        "print('Y is an object of type:', type(Y)) # Y is an object of type: class 'numpy.ndarray'\n",
        "print('The elements in Y are of type:', Y.dtype) # The elements in Y are of type: int64"
      ],
      "metadata": {
        "colab": {
          "base_uri": "https://localhost:8080/"
        },
        "id": "Okp0lwEJ3xsr",
        "outputId": "6b11f6ed-7076-4d89-e2ce-27e92e8179f8"
      },
      "execution_count": 45,
      "outputs": [
        {
          "output_type": "stream",
          "name": "stdout",
          "text": [
            "x =  [1 2 3 4 5]\n",
            "x has dimensions: (5,)\n",
            "The elements in x are of type: int64\n",
            "Y has dimensions: (4, 3)\n",
            "Y has a total of 12 elements\n",
            "Y is an object of type: <class 'numpy.ndarray'>\n",
            "The elements in Y are of type: int64\n"
          ]
        }
      ]
    },
    {
      "cell_type": "code",
      "source": [
        "# Specify the dtype when creating the ndarray\n",
        "x = np.array([1.5, 2.2, 3.7, 4.0, 5.9], dtype = np.int64)"
      ],
      "metadata": {
        "id": "Bdwy9-OT30Of"
      },
      "execution_count": 46,
      "outputs": []
    },
    {
      "cell_type": "code",
      "source": [
        "# Save the array into a file\n",
        "np.save('my_array', x)\n",
        "\n",
        "# Load the saved array from current directory\n",
        "y = np.load('my_array.npy')"
      ],
      "metadata": {
        "id": "MuD1Dzcu33Ml"
      },
      "execution_count": 47,
      "outputs": []
    },
    {
      "cell_type": "code",
      "source": [
        "# Create ndarray using built-in functions\n",
        "# 3 x 4 ndarray full of zeros\n",
        "# np.zeros(shape)\n",
        "X = np.zeros((3,4))"
      ],
      "metadata": {
        "id": "nl2eQ3Mi35On"
      },
      "execution_count": 48,
      "outputs": []
    },
    {
      "cell_type": "code",
      "source": [
        "# a 3 x 2 ndarray full of ones\n",
        "# np.ones(shape)\n",
        "X = np.ones((3,2))"
      ],
      "metadata": {
        "id": "r1_PIQYU37Sa"
      },
      "execution_count": 49,
      "outputs": []
    },
    {
      "cell_type": "code",
      "source": [
        "# 2 x 3 ndarray full of fives\n",
        "# np.full(shape, constant value)\n",
        "X = np.full((2,3), 5)"
      ],
      "metadata": {
        "id": "P15L3mSQ39N_"
      },
      "execution_count": 50,
      "outputs": []
    },
    {
      "cell_type": "code",
      "source": [
        "# Identity Matrix\n",
        "# Since all Identity Matrices are square, the np.eye() function only takes a single integer as an argument\n",
        "# 5 x 5 Identity matrix\n",
        "X = np.eye(5)"
      ],
      "metadata": {
        "id": "w3Fo-E6U3_qV"
      },
      "execution_count": 51,
      "outputs": []
    },
    {
      "cell_type": "code",
      "source": [
        "# Diagonal Matrix\n",
        "# 4 x 4 diagonal matrix that contains the numbers 10,20,30, and 50 on its main diagonal\n",
        "X = np.diag([10,20,30,50])"
      ],
      "metadata": {
        "id": "gFWABDgp4BQL"
      },
      "execution_count": 52,
      "outputs": []
    },
    {
      "cell_type": "code",
      "source": [
        "# Arange\n",
        "# rank 1 ndarray that has sequential integers from 0 to 9\n",
        "# x = [0 1 2 3 4 5 6 7 8 9]\n",
        "x = np.arange(10)\n",
        "\n",
        "# rank 1 ndarray that has sequential integers from 4 to 9\n",
        "# [start, stop)\n",
        "# x = [4 5 6 7 8 9]\n",
        "x = np.arange(4,10)\n",
        "\n",
        "# rank 1 ndarray that has evenly spaced integers from 1 to 13 in steps of 3.\n",
        "# np.arange(start,stop,step)\n",
        "# x = [ 1 4 7 10 13]\n",
        "x = np.arange(1,14,3)"
      ],
      "metadata": {
        "id": "Fm1-ygo74Dww"
      },
      "execution_count": 53,
      "outputs": []
    },
    {
      "cell_type": "code",
      "source": [
        "# Linspace\n",
        "# Even though the np.arange() function allows for non-integer steps,\n",
        "# such as 0.3, the output is usually inconsistent, due to the finite\n",
        "# floating point precision. For this reason, in the cases where\n",
        "# non-integer steps are required, it is usually better to use linspace()\n",
        "# becayse np.linspace() uses the number of elements we want in a\n",
        "# particular interval, instead of the step between values.\n",
        "# linspace returns N evenly spaced numbers over the closed interval [start, stop]\n",
        "# np.linspace(start, stop, N)\n",
        "# x = [ 0. 2.77777778 5.55555556 8.33333333 11.11111111 13.88888889 16.66666667 19.44444444 22.22222222 25. ]\n",
        "x = np.linspace(0,25,10)"
      ],
      "metadata": {
        "id": "pKSxdDr14GTR"
      },
      "execution_count": 54,
      "outputs": []
    },
    {
      "cell_type": "code",
      "source": [
        "# Reshape\n",
        "# np.reshape(ndarray, new_shape)\n",
        "# converts the given ndarray into the specified new_shape\n",
        "x = np.arange(20)\n",
        "x = np.reshape(x, (4,5))\n",
        "# or\n",
        "x = np.arange(20).reshape(4, 5) # does the same thing as above\n",
        "# and the same thing with with linshape\n",
        "y = np.linspace(0,50,10, endpoint=False).reshape(5,2)\n",
        "# One great feature about NumPy, is that some functions can also be\n",
        "# applied as methods. This allows us to apply different functions in\n",
        "# sequence in just one line of code"
      ],
      "metadata": {
        "id": "pUXK0c194I1D"
      },
      "execution_count": 55,
      "outputs": []
    },
    {
      "cell_type": "code",
      "source": [
        "# Slicing\n",
        "# ndarray[start:end]\n",
        "# ndarray[start:]\n",
        "# ndarray[:end]\n",
        "# ndarray[<start>:<stop>:<step>]\n",
        "\n",
        "# In methods one and three, the end index is excluded [,)\n",
        "X = np.arange(20).reshape(4, 5)\n",
        "\n",
        "# select all the elements that are in the 2nd through 4th rows and in the 3rd to 5th columns\n",
        "Z = X[1:4,2:5]\n",
        "# or\n",
        "Z = X[1:,2:5]\n",
        "\n",
        "# elements = a_list[<start>:<stop>:<step>]\n",
        "# select all the elements in the 3rd row\n",
        "v = X[2,:] # v = [10 11 12 13 14]\n",
        "# select all the elements in the 3rd column\n",
        "q = X[:,2] # q = [ 2 7 12 17]\n",
        "# select all the elements in the 3rd column but return a rank 2 ndarray\n",
        "R = X[:,2:3]\n",
        "'''\n",
        "[[ 2]\n",
        " [ 7]\n",
        " [12]\n",
        " [17]]\n",
        "'''\n",
        "# Note: Slicing creates a view, not a copy\n",
        "# when we make assignments, such as: Z = X[1:4,2:5]\n",
        "# the slice of the original array X is not copied in the variable Z.\n",
        "# Rather, X and Z are now just two different names for the same ndarray.\n",
        "# We say that slicing only creates a view of the original array.\n",
        "# This means if we make changes to Z, X changes as well."
      ],
      "metadata": {
        "colab": {
          "base_uri": "https://localhost:8080/",
          "height": 35
        },
        "id": "yjPj4w2y4Ldd",
        "outputId": "9c1432e9-19df-46df-c1ec-1fb4138f4d6c"
      },
      "execution_count": 56,
      "outputs": [
        {
          "output_type": "execute_result",
          "data": {
            "text/plain": [
              "'\\n[[ 2]\\n [ 7]\\n [12]\\n [17]]\\n'"
            ],
            "application/vnd.google.colaboratory.intrinsic+json": {
              "type": "string"
            }
          },
          "metadata": {},
          "execution_count": 56
        }
      ]
    },
    {
      "cell_type": "code",
      "source": [
        " Random\n",
        "# 3 x 3 ndarray with random floats in the half-open interval [0.0, 1.0).\n",
        "# np.random.random(shape)\n",
        "X = np.random.random((3,3))\n",
        "# np.random.randint(start, stop, size = shape)\n",
        "# [start, stop)\n",
        "X = np.random.randint(4,15,size=(3,2))\n",
        "\n",
        "# create ndarrays with random numbers that satisfy certain statistical properties\n",
        "# 1000 x 1000 ndarray of random floats drawn from normal (Gaussian)\n",
        "# distribution with a mean of zero and a standard deviation of 0.1.\n",
        "# np.random.normal(mean, standard deviation, size=shape)\n",
        "X = np.random.normal(0, 0.1, size=(1000,1000))"
      ],
      "metadata": {
        "colab": {
          "base_uri": "https://localhost:8080/",
          "height": 235
        },
        "id": "VMXdS4aC4Sl5",
        "outputId": "8a9e381e-bde1-4366-82af-56f60e45a32a"
      },
      "execution_count": 57,
      "outputs": [
        {
          "output_type": "error",
          "ename": "NameError",
          "evalue": "ignored",
          "traceback": [
            "\u001b[0;31m---------------------------------------------------------------------------\u001b[0m",
            "\u001b[0;31mNameError\u001b[0m                                 Traceback (most recent call last)",
            "\u001b[0;32m<ipython-input-57-0c64393bf1e8>\u001b[0m in \u001b[0;36m<module>\u001b[0;34m()\u001b[0m\n\u001b[0;32m----> 1\u001b[0;31m \u001b[0mRandom\u001b[0m\u001b[0;34m\u001b[0m\u001b[0;34m\u001b[0m\u001b[0m\n\u001b[0m\u001b[1;32m      2\u001b[0m \u001b[0;31m# 3 x 3 ndarray with random floats in the half-open interval [0.0, 1.0).\u001b[0m\u001b[0;34m\u001b[0m\u001b[0;34m\u001b[0m\u001b[0;34m\u001b[0m\u001b[0m\n\u001b[1;32m      3\u001b[0m \u001b[0;31m# np.random.random(shape)\u001b[0m\u001b[0;34m\u001b[0m\u001b[0;34m\u001b[0m\u001b[0;34m\u001b[0m\u001b[0m\n\u001b[1;32m      4\u001b[0m \u001b[0mX\u001b[0m \u001b[0;34m=\u001b[0m \u001b[0mnp\u001b[0m\u001b[0;34m.\u001b[0m\u001b[0mrandom\u001b[0m\u001b[0;34m.\u001b[0m\u001b[0mrandom\u001b[0m\u001b[0;34m(\u001b[0m\u001b[0;34m(\u001b[0m\u001b[0;36m3\u001b[0m\u001b[0;34m,\u001b[0m\u001b[0;36m3\u001b[0m\u001b[0;34m)\u001b[0m\u001b[0;34m)\u001b[0m\u001b[0;34m\u001b[0m\u001b[0;34m\u001b[0m\u001b[0m\n\u001b[1;32m      5\u001b[0m \u001b[0;31m# np.random.randint(start, stop, size = shape)\u001b[0m\u001b[0;34m\u001b[0m\u001b[0;34m\u001b[0m\u001b[0;34m\u001b[0m\u001b[0m\n",
            "\u001b[0;31mNameError\u001b[0m: name 'Random' is not defined"
          ]
        }
      ]
    },
    {
      "cell_type": "code",
      "source": [
        "# Mutability\n",
        "# Change ndarray\n",
        "x[3] = 20\n",
        "X[0,0] = 20"
      ],
      "metadata": {
        "id": "x6hbPfxa4VQl"
      },
      "execution_count": 58,
      "outputs": []
    },
    {
      "cell_type": "code",
      "source": [
        "# Delete\n",
        "# np.delete(ndarray, elements, axis)\n",
        "x = np.array([1, 2, 3, 4, 5])\n",
        "# delete the first and fifth element of x\n",
        "x = np.delete(x, [0,4])\n",
        "\n",
        "Y = np.array([[1,2,3],[4,5,6],[7,8,9]])\n",
        "# delete the first row of Y\n",
        "w = np.delete(Y, 0, axis=0)\n",
        "# delete the first and last column of Y\n",
        "v = np.delete(Y, [0,2], axis=1)"
      ],
      "metadata": {
        "id": "bHQLXLYE4bcr"
      },
      "execution_count": 59,
      "outputs": []
    },
    {
      "cell_type": "code",
      "source": [
        "# Append\n",
        "# np.append(ndarray, elements, axis)\n",
        "# append the integer 6 to x\n",
        "x = np.append(x, 6)\n",
        "# append the integer 7 and 8 to x\n",
        "x = np.append(x, [7,8])\n",
        "# append a new row containing 7,8,9 to y\n",
        "v = np.append(Y, [[10,11,12]], axis=0)\n",
        "# append a new column containing 9 and 10 to y\n",
        "q = np.append(Y,[[13],[14],[15]], axis=1)"
      ],
      "metadata": {
        "id": "18PlEpPQ4e-U"
      },
      "execution_count": 60,
      "outputs": []
    },
    {
      "cell_type": "code",
      "source": [
        "# Insert\n",
        "# np.insert(ndarray, index, elements, axis)\n",
        "# inserts the given list of elements to ndarray right before\n",
        "# the given index along the specified axis\n",
        "x = np.array([1, 2, 5, 6, 7])\n",
        "Y = np.array([[1,2,3],[7,8,9]])\n",
        "# insert the integer 3 and 4 between 2 and 5 in x. \n",
        "x = np.insert(x,2,[3,4])\n",
        "# insert a row between the first and last row of Y\n",
        "w = np.insert(Y,1,[4,5,6],axis=0)\n",
        "# insert a column full of 5s between the first and second column of Y\n",
        "v = np.insert(Y,1,5, axis=1)"
      ],
      "metadata": {
        "id": "XN6NKZWT4hm8"
      },
      "execution_count": 61,
      "outputs": []
    },
    {
      "cell_type": "code",
      "source": [
        "# Stacking\n",
        "# NumPy also allows us to stack ndarrays on top of each other,\n",
        "# or to stack them side by side. The stacking is done using either\n",
        "# the np.vstack() function for vertical stacking, or the np.hstack()\n",
        "# function for horizontal stacking. It is important to note that in\n",
        "# order to stack ndarrays, the shape of the ndarrays must match.\n",
        "x = np.array([1,2])\n",
        "Y = np.array([[3,4],[5,6]])\n",
        "z = np.vstack((x,Y)) # [[1,2], [3,4], [5,6]]\n",
        "w = np.hstack((Y,x.reshape(2,1))) # [[3,4,1], [5,6,2]]"
      ],
      "metadata": {
        "id": "gk8ExFAB4j8b"
      },
      "execution_count": 62,
      "outputs": []
    },
    {
      "cell_type": "code",
      "source": [
        "# Copy\n",
        "# if we want to create a new ndarray that contains a copy of the\n",
        "# values in the slice we need to use the np.copy()\n",
        "# create a copy of the slice using the np.copy() function\n",
        "Z = np.copy(X[1:4,2:5])\n",
        "#  create a copy of the slice using the copy as a method\n",
        "W = X[1:4,2:5].copy()"
      ],
      "metadata": {
        "id": "t1g3EyNc4mnC"
      },
      "execution_count": 63,
      "outputs": []
    },
    {
      "cell_type": "code",
      "source": [
        "# Extract elements along the diagonal\n",
        "d0 = np.diag(X)\n",
        "# As default is k=0, which refers to the main diagonal.\n",
        "# Values of k > 0 are used to select elements in diagonals above\n",
        "# the main diagonal, and values of k < 0 are used to select elements\n",
        "# in diagonals below the main diagonal.\n",
        "d1 = np.diag(X, k=1)\n",
        "d2 = np.diag(X, k=-1)"
      ],
      "metadata": {
        "id": "IWLuX2S-4qiT"
      },
      "execution_count": 64,
      "outputs": []
    },
    {
      "cell_type": "code",
      "source": [
        "# Find Unique Elements in ndarray\n",
        "u = np.unique(X)"
      ],
      "metadata": {
        "id": "fpboM8RH4tAT"
      },
      "execution_count": 65,
      "outputs": []
    },
    {
      "cell_type": "code",
      "source": [
        "# Boolean Indexing\n",
        "X = np.arange(25).reshape(5, 5)\n",
        "print('The elements in X that are greater than 10:', X[X > 10])\n",
        "print('The elements in X that less than or equal to 7:', X[X <= 7])\n",
        "print('The elements in X that are between 10 and 17:', X[(X > 10) & (X < 17)])\n",
        "\n",
        "# use Boolean indexing to assign the elements that\n",
        "# are between 10 and 17 the value of -1\n",
        "X[(X > 10) & (X < 17)] = -1\n"
      ],
      "metadata": {
        "colab": {
          "base_uri": "https://localhost:8080/"
        },
        "id": "72d9XL2J4vN7",
        "outputId": "fdc4cd4a-8306-495a-917d-1c9460c750a1"
      },
      "execution_count": 67,
      "outputs": [
        {
          "output_type": "stream",
          "name": "stdout",
          "text": [
            "The elements in X that are greater than 10: [11 12 13 14 15 16 17 18 19 20 21 22 23 24]\n",
            "The elements in X that less than or equal to 7: [0 1 2 3 4 5 6 7]\n",
            "The elements in X that are between 10 and 17: [11 12 13 14 15 16]\n"
          ]
        }
      ]
    },
    {
      "cell_type": "code",
      "source": [
        "# Set Operations\n",
        "x = np.array([1,2,3,4,5])\n",
        "y = np.array([6,7,2,8,4])\n",
        "print('The elements that are both in x and y:', np.intersect1d(x,y))\n",
        "print('The elements that are in x that are not in y:', np.setdiff1d(x,y))\n",
        "print('All the elements of x and y:',np.union1d(x,y))"
      ],
      "metadata": {
        "colab": {
          "base_uri": "https://localhost:8080/"
        },
        "id": "UXcame7q40Jw",
        "outputId": "f44f8d0e-c2ae-4760-c96e-37bf611abf1d"
      },
      "execution_count": 68,
      "outputs": [
        {
          "output_type": "stream",
          "name": "stdout",
          "text": [
            "The elements that are both in x and y: [2 4]\n",
            "The elements that are in x that are not in y: [1 3 5]\n",
            "All the elements of x and y: [1 2 3 4 5 6 7 8]\n"
          ]
        }
      ]
    },
    {
      "cell_type": "code",
      "source": [
        "# Sorting\n",
        "# When used as a function, it doesn't change the original ndarray\n",
        "s = np.sort(x)\n",
        "# When used as a method, the original array will be sorted\n",
        "x.sort()\n",
        "\n",
        "# sort x but only keep the unique elements in x\n",
        "s = np.sort(np.unique(x))\n",
        "\n",
        "# sort the columns of X\n",
        "s = np.sort(X, axis = 0)\n",
        "\n",
        "# sort the rows of X\n",
        "s = np.sort(X, axis = 1)"
      ],
      "metadata": {
        "id": "gxk5v9z14-XQ"
      },
      "execution_count": 69,
      "outputs": []
    },
    {
      "cell_type": "code",
      "source": [
        "# NumPy allows element-wise operations on ndarrays as well as\n",
        "# matrix operations. In order to do element-wise operations,\n",
        "# NumPy sometimes uses something called Broadcasting.\n",
        "# Broadcasting is the term used to describe how NumPy handles\n",
        "# element-wise arithmetic operations with ndarrays of different shapes.\n",
        "# For example, broadcasting is used implicitly when doing arithmetic\n",
        "# operations between scalars and ndarrays.\n",
        "x = np.array([1,2,3,4])\n",
        "y = np.array([5.5,6.5,7.5,8.5])\n",
        "np.add(x,y)\n",
        "np.subtract(x,y)\n",
        "np.multiply(x,y)\n",
        "np.divide(x,y)\n",
        "\n",
        "# in order to do these operations the shapes of the ndarrays\n",
        "# being operated on, must have the same shape or be broadcastable\n",
        "X = np.array([1,2,3,4]).reshape(2,2)\n",
        "Y = np.array([5.5,6.5,7.5,8.5]).reshape(2,2)\n",
        "np.add(X,Y)\n",
        "np.subtract(X,Y)\n",
        "np.multiply(X,Y)\n",
        "np.divide(X,Y)\n",
        "# apply mathematical functions to all elements of an ndarray at once\n",
        "np.exp(x)\n",
        "np.sqrt(x)\n",
        "np.power(x,2)\n"
      ],
      "metadata": {
        "colab": {
          "base_uri": "https://localhost:8080/"
        },
        "id": "CVlGAGGN5A5l",
        "outputId": "1fdd11da-a7ca-4f69-e7f9-9458b2572f6e"
      },
      "execution_count": 70,
      "outputs": [
        {
          "output_type": "execute_result",
          "data": {
            "text/plain": [
              "array([ 1,  4,  9, 16])"
            ]
          },
          "metadata": {},
          "execution_count": 70
        }
      ]
    },
    {
      "cell_type": "code",
      "source": [
        "# Statistical Functions\n",
        "print('Average of all elements in X:', X.mean())\n",
        "print('Average of all elements in the columns of X:', X.mean(axis=0))\n",
        "print('Average of all elements in the rows of X:', X.mean(axis=1))\n",
        "print()\n",
        "print('Sum of all elements in X:', X.sum())\n",
        "print('Standard Deviation of all elements in X:', X.std())\n",
        "print('Median of all elements in X:', np.median(X))\n",
        "print('Maximum value of all elements in X:', X.max())\n",
        "print('Minimum value of all elements in X:', X.min())"
      ],
      "metadata": {
        "colab": {
          "base_uri": "https://localhost:8080/"
        },
        "id": "zDbGwgTN5HCp",
        "outputId": "d9bf7ab3-4823-400a-f175-341c4216f001"
      },
      "execution_count": 71,
      "outputs": [
        {
          "output_type": "stream",
          "name": "stdout",
          "text": [
            "Average of all elements in X: 2.5\n",
            "Average of all elements in the columns of X: [2. 3.]\n",
            "Average of all elements in the rows of X: [1.5 3.5]\n",
            "\n",
            "Sum of all elements in X: 10\n",
            "Standard Deviation of all elements in X: 1.118033988749895\n",
            "Median of all elements in X: 2.5\n",
            "Maximum value of all elements in X: 4\n",
            "Minimum value of all elements in X: 1\n"
          ]
        }
      ]
    },
    {
      "cell_type": "code",
      "source": [
        "# Broadcasting\n",
        "# NumPy is working behind the scenes to broadcast 3 along the ndarray\n",
        "# so that they have the same shape. This allows us to add 3 to each\n",
        "# element of X with just one line of code.\n",
        "print(4*X)\n",
        "print(4+X)\n",
        "print(4-X)\n",
        "print(4/X)\n",
        "# NumPy is able to add 1 x 3 and 3 x 1 ndarrays to 3 x 3 ndarrays\n",
        "# by broadcasting the smaller ndarrays along the big ndarray so that\n",
        "# they have compatible shapes. In general, NumPy can do this provided\n",
        "# that the smaller ndarray can be expanded to the shape of the larger\n",
        "# ndarray in such a way that the resulting broadcast is unambiguous.\n",
        "x = np.array([1,2,3])\n",
        "Y = np.array([[1,2,3],[4,5,6],[7,8,9]])\n",
        "Z = np.array([1,2,3]).reshape(3,1)\n",
        "print(x + Y)\n",
        "print(Z + Y)"
      ],
      "metadata": {
        "colab": {
          "base_uri": "https://localhost:8080/"
        },
        "id": "O50JS38I5KQG",
        "outputId": "1367809f-b8b4-4c10-f06a-24b758df5efc"
      },
      "execution_count": 72,
      "outputs": [
        {
          "output_type": "stream",
          "name": "stdout",
          "text": [
            "[[ 4  8]\n",
            " [12 16]]\n",
            "[[5 6]\n",
            " [7 8]]\n",
            "[[3 2]\n",
            " [1 0]]\n",
            "[[4.         2.        ]\n",
            " [1.33333333 1.        ]]\n",
            "[[ 2  4  6]\n",
            " [ 5  7  9]\n",
            " [ 8 10 12]]\n",
            "[[ 2  3  4]\n",
            " [ 6  7  8]\n",
            " [10 11 12]]\n"
          ]
        }
      ]
    },
    {
      "cell_type": "code",
      "source": [
        "import pandas as pd"
      ],
      "metadata": {
        "id": "uPCqIgdM5NWh"
      },
      "execution_count": 73,
      "outputs": []
    },
    {
      "cell_type": "code",
      "source": [
        "groceries = pd.Series(data = [30, 6, 'Yes', 'No'], index = ['eggs', 'apples', 'milk', 'bread'])"
      ],
      "metadata": {
        "id": "jqmk_XfX5SLg"
      },
      "execution_count": 74,
      "outputs": []
    },
    {
      "cell_type": "code",
      "source": [
        "print('Groceries has shape:', groceries.shape)\n",
        "print('Groceries has dimension:', groceries.ndim)\n",
        "print('Groceries has a total of', groceries.size, 'elements')\n",
        "print('The data in Groceries is:', groceries.values)\n",
        "print('The index of Groceries is:', groceries.index)"
      ],
      "metadata": {
        "colab": {
          "base_uri": "https://localhost:8080/"
        },
        "id": "42sxaGdP5URs",
        "outputId": "b8947e98-59a4-496d-f2cc-ec0575ce9e30"
      },
      "execution_count": 75,
      "outputs": [
        {
          "output_type": "stream",
          "name": "stdout",
          "text": [
            "Groceries has shape: (4,)\n",
            "Groceries has dimension: 1\n",
            "Groceries has a total of 4 elements\n",
            "The data in Groceries is: [30 6 'Yes' 'No']\n",
            "The index of Groceries is: Index(['eggs', 'apples', 'milk', 'bread'], dtype='object')\n"
          ]
        }
      ]
    },
    {
      "cell_type": "code",
      "source": [
        "# check whether an index label exists in Series\n",
        "x = 'bananas' in groceries"
      ],
      "metadata": {
        "id": "ZD-ynvx55wNA"
      },
      "execution_count": 76,
      "outputs": []
    },
    {
      "cell_type": "code",
      "source": [
        "# Accessing Elements\n",
        "# using index labels:\n",
        "# single index label\n",
        "print('How many eggs do we need to buy:', groceries['eggs'])\n",
        "# access multiple index labels\n",
        "print('Do we need milk and bread:\\n', groceries[['milk', 'bread']]) \n",
        "# use loc to access multiple index labels\n",
        "print('How many eggs and apples do we need to buy:\\n', groceries.loc[['eggs', 'apples']]) \n",
        "\n",
        "# access elements in Groceries using numerical indices:\n",
        "# use multiple numerical indices\n",
        "print('How many eggs and apples do we need to buy:\\n',  groceries[[0, 1]]) \n",
        "# use a negative numerical index\n",
        "print('Do we need bread:\\n', groceries[[-1]]) \n",
        "# use a single numerical index\n",
        "print('How many eggs do we need to buy:', groceries[0]) \n",
        "# use iloc (stands for integer location) to access multiple numerical indices\n",
        "print('Do we need milk and bread:\\n', groceries.iloc[[2, 3]])\n",
        "# Since we can access elements in various ways, in order to remove\n",
        "# any ambiguity to whether we are referring to an index label\n",
        "# or numerical index, Pandas Series have two attributes,\n",
        "# .loc and .iloc to explicitly state what we mean. The attribute\n",
        "# .loc stands for location and it is used to explicitly state that\n",
        "# we are using a labeled index. Similarly, the attribute .iloc stands\n",
        "# for integer location and it is used to explicitly state that we are\n",
        "# using a numerical index."
      ],
      "metadata": {
        "colab": {
          "base_uri": "https://localhost:8080/"
        },
        "id": "59h7qo5w5zQX",
        "outputId": "55e697cd-0fb0-4f65-c575-6d083882139f"
      },
      "execution_count": 77,
      "outputs": [
        {
          "output_type": "stream",
          "name": "stdout",
          "text": [
            "How many eggs do we need to buy: 30\n",
            "Do we need milk and bread:\n",
            " milk     Yes\n",
            "bread     No\n",
            "dtype: object\n",
            "How many eggs and apples do we need to buy:\n",
            " eggs      30\n",
            "apples     6\n",
            "dtype: object\n",
            "How many eggs and apples do we need to buy:\n",
            " eggs      30\n",
            "apples     6\n",
            "dtype: object\n",
            "Do we need bread:\n",
            " bread    No\n",
            "dtype: object\n",
            "How many eggs do we need to buy: 30\n",
            "Do we need milk and bread:\n",
            " milk     Yes\n",
            "bread     No\n",
            "dtype: object\n"
          ]
        }
      ]
    },
    {
      "cell_type": "code",
      "source": [
        "# access using Boolean Indexes\n",
        "time_light[time_light<40]"
      ],
      "metadata": {
        "colab": {
          "base_uri": "https://localhost:8080/",
          "height": 183
        },
        "id": "41vP46c66O-q",
        "outputId": "b3320dfa-ab99-45b1-860d-169c00f628e3"
      },
      "execution_count": 78,
      "outputs": [
        {
          "output_type": "error",
          "ename": "NameError",
          "evalue": "ignored",
          "traceback": [
            "\u001b[0;31m---------------------------------------------------------------------------\u001b[0m",
            "\u001b[0;31mNameError\u001b[0m                                 Traceback (most recent call last)",
            "\u001b[0;32m<ipython-input-78-0a8592ba7e52>\u001b[0m in \u001b[0;36m<module>\u001b[0;34m()\u001b[0m\n\u001b[1;32m      1\u001b[0m \u001b[0;31m# access using Boolean Indexes\u001b[0m\u001b[0;34m\u001b[0m\u001b[0;34m\u001b[0m\u001b[0;34m\u001b[0m\u001b[0m\n\u001b[0;32m----> 2\u001b[0;31m \u001b[0mtime_light\u001b[0m\u001b[0;34m[\u001b[0m\u001b[0mtime_light\u001b[0m\u001b[0;34m<\u001b[0m\u001b[0;36m40\u001b[0m\u001b[0;34m]\u001b[0m\u001b[0;34m\u001b[0m\u001b[0;34m\u001b[0m\u001b[0m\n\u001b[0m",
            "\u001b[0;31mNameError\u001b[0m: name 'time_light' is not defined"
          ]
        }
      ]
    },
    {
      "cell_type": "code",
      "source": [
        "# Change Elements\n",
        "groceries['eggs'] = 2"
      ],
      "metadata": {
        "id": "4p3k3GvQ6T0g"
      },
      "execution_count": 79,
      "outputs": []
    },
    {
      "cell_type": "code",
      "source": [
        "# Delete Elements\n",
        "# doesn't change the original Series being modified\n",
        "groceries.drop('apples')\n",
        "# delete items from Series in place by setting keyword inplace to True\n",
        "groceries.drop('apples', inplace = True)"
      ],
      "metadata": {
        "id": "jVXaLMUf6YmG"
      },
      "execution_count": 80,
      "outputs": []
    },
    {
      "cell_type": "code",
      "source": [
        "# Arithmetic Operations\n",
        "# we can perform element-wise arithmetic operations on Pandas Series\n",
        "fruits = pd.Series(data = [10, 6, 3,], index = ['apples', 'oranges', 'bananas'])\n",
        "fruits + 2 # Adds 2 to all elements in the series\n",
        "fruits - 2\n",
        "fruits * 2\n",
        "fruits / 2\n",
        "# apply mathematical functions from NumPy to all elements of a Series\n",
        "np.exp(fruits)\n",
        "np.sqrt(fruits)\n",
        "np.power(fruits,2)\n",
        "# only apply arithmetic operations on selected items in Series\n",
        "fruits['bananas'] + 2\n",
        "fruits.iloc[0] - 2\n",
        "fruits[['apples', 'oranges']] * 2\n",
        "# you can apply arithmetic operations on a Series of mixed data\n",
        "# type provided that the arithmetic operation is defined for all\n",
        "# data types in the Series, otherwise you will get an error"
      ],
      "metadata": {
        "colab": {
          "base_uri": "https://localhost:8080/"
        },
        "id": "lhj0SdhD6bh6",
        "outputId": "22d7926c-045e-45d3-bc28-634e4fd8d9b7"
      },
      "execution_count": 81,
      "outputs": [
        {
          "output_type": "execute_result",
          "data": {
            "text/plain": [
              "apples     20\n",
              "oranges    12\n",
              "dtype: int64"
            ]
          },
          "metadata": {},
          "execution_count": 81
        }
      ]
    },
    {
      "cell_type": "code",
      "source": [
        "# understanding axes\n",
        "df.sum()       \n",
        "# sums “down” the 0 axis (rows)\n",
        "df.sum(axis=0) \n",
        "# equivalent (since axis=0 is the default)\n",
        "df.sum(axis=1) \n",
        "# sums “across” the 1 axis (columns)"
      ],
      "metadata": {
        "colab": {
          "base_uri": "https://localhost:8080/",
          "height": 235
        },
        "id": "h5cN3VY46faI",
        "outputId": "e7f3d94a-0ac3-401c-c65c-d51cfe974f34"
      },
      "execution_count": 82,
      "outputs": [
        {
          "output_type": "error",
          "ename": "NameError",
          "evalue": "ignored",
          "traceback": [
            "\u001b[0;31m---------------------------------------------------------------------------\u001b[0m",
            "\u001b[0;31mNameError\u001b[0m                                 Traceback (most recent call last)",
            "\u001b[0;32m<ipython-input-82-1e510f46d5af>\u001b[0m in \u001b[0;36m<module>\u001b[0;34m()\u001b[0m\n\u001b[1;32m      1\u001b[0m \u001b[0;31m# understanding axes\u001b[0m\u001b[0;34m\u001b[0m\u001b[0;34m\u001b[0m\u001b[0;34m\u001b[0m\u001b[0m\n\u001b[0;32m----> 2\u001b[0;31m \u001b[0mdf\u001b[0m\u001b[0;34m.\u001b[0m\u001b[0msum\u001b[0m\u001b[0;34m(\u001b[0m\u001b[0;34m)\u001b[0m\u001b[0;34m\u001b[0m\u001b[0;34m\u001b[0m\u001b[0m\n\u001b[0m\u001b[1;32m      3\u001b[0m \u001b[0;31m# sums “down” the 0 axis (rows)\u001b[0m\u001b[0;34m\u001b[0m\u001b[0;34m\u001b[0m\u001b[0;34m\u001b[0m\u001b[0m\n\u001b[1;32m      4\u001b[0m \u001b[0mdf\u001b[0m\u001b[0;34m.\u001b[0m\u001b[0msum\u001b[0m\u001b[0;34m(\u001b[0m\u001b[0maxis\u001b[0m\u001b[0;34m=\u001b[0m\u001b[0;36m0\u001b[0m\u001b[0;34m)\u001b[0m\u001b[0;34m\u001b[0m\u001b[0;34m\u001b[0m\u001b[0m\n\u001b[1;32m      5\u001b[0m \u001b[0;31m# equivalent (since axis=0 is the default)\u001b[0m\u001b[0;34m\u001b[0m\u001b[0;34m\u001b[0m\u001b[0;34m\u001b[0m\u001b[0m\n",
            "\u001b[0;31mNameError\u001b[0m: name 'df' is not defined"
          ]
        }
      ]
    },
    {
      "cell_type": "code",
      "source": [
        "# Loading Data into DF\n",
        "df = pd.read_csv('marauders_map.csv')\n",
        "\n",
        "# limit which rows are read when reading in a file\n",
        "pd.read_csv(‘df.csv’, nrows=10)        \n",
        "# only read first 10 rows\n",
        "\n",
        "pd.read_csv(‘df.csv’, skiprows=[1, 2]) \n",
        "# skip the first two rows of data\n",
        "\n",
        "# randomly sample a DataFrame\n",
        "train = df.sample(frac=0.75, random_column_y=1) \n",
        "# will contain 75% of the rows\n",
        "\n",
        "test = df[~df.index.isin(train.index)] \n",
        "# will contain the other 25%\n",
        "\n",
        "# change the maximum number of rows and columns printed (‘None’ means unlimited)\n",
        "pd.set_option(‘max_rows’, None) \n",
        "# default is 60 rows\n",
        "\n",
        "pd.set_option(‘max_columns’, None) \n",
        "# default is 20 columns\n",
        "print df\n",
        "# reset options to defaults\n",
        "pd.reset_option(‘max_rows’)\n",
        "pd.reset_option(‘max_columns’)\n",
        "\n",
        "# change the options temporarily (settings are restored when you exit the ‘with’ block)\n",
        "with pd.option_context(‘max_rows’, None, ‘max_columns’, None):\n",
        "    print df"
      ],
      "metadata": {
        "colab": {
          "base_uri": "https://localhost:8080/",
          "height": 130
        },
        "id": "H1ps2q856jYv",
        "outputId": "2217cbdb-7b67-451c-c973-caf5e45ba446"
      },
      "execution_count": 83,
      "outputs": [
        {
          "output_type": "error",
          "ename": "SyntaxError",
          "evalue": "ignored",
          "traceback": [
            "\u001b[0;36m  File \u001b[0;32m\"<ipython-input-83-e229e080f3c4>\"\u001b[0;36m, line \u001b[0;32m5\u001b[0m\n\u001b[0;31m    pd.read_csv(‘df.csv’, nrows=10)\u001b[0m\n\u001b[0m                  ^\u001b[0m\n\u001b[0;31mSyntaxError\u001b[0m\u001b[0;31m:\u001b[0m invalid character in identifier\n"
          ]
        }
      ]
    },
    {
      "cell_type": "code",
      "source": [
        ""
      ],
      "metadata": {
        "id": "lBg8Vlyb67h7"
      },
      "execution_count": null,
      "outputs": []
    }
  ]
}